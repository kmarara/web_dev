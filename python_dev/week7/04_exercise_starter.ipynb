{
 "cells": [
  {
   "cell_type": "markdown",
   "id": "a02482ee-e7a4-4c21-bc6c-a14ef7743f08",
   "metadata": {},
   "source": [
    "# Exercise: Iris Dataset\n",
    "Now that you have a good understanding of exploritory data analysis and it's importance, it's time to put your knowledge to a more practical example. We'll be focusing on a iris public dataset from the scikit-learn library.\n",
    "\n",
    "Our main objectives for this dataset are:\n",
    "1. Load the iris dataset into a pandas dataframe\n",
    "2. Create a table summary of the features and target values\n",
    "3. Create a histogram of all the features and target\n",
    "4. Create a correlation matrix of the features and target\n",
    "5. Create scatter plots of all the features and target"
   ]
  },
  {
   "cell_type": "code",
   "execution_count": 2,
   "id": "0c179bc2-f479-4e96-b90d-7830f416cb48",
   "metadata": {},
   "outputs": [],
   "source": [
    "import pandas as pd\n",
    "import sklearn\n",
    "from sklearn import datasets\n",
    "import matplotlib.pyplot as plt"
   ]
  },
  {
   "cell_type": "code",
   "execution_count": null,
   "id": "b50cf038-a16f-4d70-a152-3c01c3526d4c",
   "metadata": {},
   "outputs": [
    {
     "ename": "TypeError",
     "evalue": "too many positional arguments",
     "output_type": "error",
     "traceback": [
      "\u001b[0;31m---------------------------------------------------------------------------\u001b[0m",
      "\u001b[0;31mTypeError\u001b[0m                                 Traceback (most recent call last)",
      "Cell \u001b[0;32mIn[19], line 2\u001b[0m\n\u001b[1;32m      1\u001b[0m \u001b[38;5;66;03m# Load in the iris dataset\u001b[39;00m\n\u001b[0;32m----> 2\u001b[0m iris \u001b[38;5;241m=\u001b[39m datasets\u001b[38;5;241m.\u001b[39mload_iris(\u001b[38;5;124m'\u001b[39m\u001b[38;5;124miris.data\u001b[39m\u001b[38;5;124m'\u001b[39m)\n",
      "File \u001b[0;32m~/anaconda3/lib/python3.12/site-packages/sklearn/utils/_param_validation.py:191\u001b[0m, in \u001b[0;36mvalidate_params.<locals>.decorator.<locals>.wrapper\u001b[0;34m(*args, **kwargs)\u001b[0m\n\u001b[1;32m    188\u001b[0m func_sig \u001b[38;5;241m=\u001b[39m signature(func)\n\u001b[1;32m    190\u001b[0m \u001b[38;5;66;03m# Map *args/**kwargs to the function signature\u001b[39;00m\n\u001b[0;32m--> 191\u001b[0m params \u001b[38;5;241m=\u001b[39m func_sig\u001b[38;5;241m.\u001b[39mbind(\u001b[38;5;241m*\u001b[39margs, \u001b[38;5;241m*\u001b[39m\u001b[38;5;241m*\u001b[39mkwargs)\n\u001b[1;32m    192\u001b[0m params\u001b[38;5;241m.\u001b[39mapply_defaults()\n\u001b[1;32m    194\u001b[0m \u001b[38;5;66;03m# ignore self/cls and positional/keyword markers\u001b[39;00m\n",
      "File \u001b[0;32m~/anaconda3/lib/python3.12/inspect.py:3273\u001b[0m, in \u001b[0;36mSignature.bind\u001b[0;34m(self, *args, **kwargs)\u001b[0m\n\u001b[1;32m   3268\u001b[0m \u001b[38;5;28;01mdef\u001b[39;00m \u001b[38;5;21mbind\u001b[39m(\u001b[38;5;28mself\u001b[39m, \u001b[38;5;241m/\u001b[39m, \u001b[38;5;241m*\u001b[39margs, \u001b[38;5;241m*\u001b[39m\u001b[38;5;241m*\u001b[39mkwargs):\n\u001b[1;32m   3269\u001b[0m \u001b[38;5;250m    \u001b[39m\u001b[38;5;124;03m\"\"\"Get a BoundArguments object, that maps the passed `args`\u001b[39;00m\n\u001b[1;32m   3270\u001b[0m \u001b[38;5;124;03m    and `kwargs` to the function's signature.  Raises `TypeError`\u001b[39;00m\n\u001b[1;32m   3271\u001b[0m \u001b[38;5;124;03m    if the passed arguments can not be bound.\u001b[39;00m\n\u001b[1;32m   3272\u001b[0m \u001b[38;5;124;03m    \"\"\"\u001b[39;00m\n\u001b[0;32m-> 3273\u001b[0m     \u001b[38;5;28;01mreturn\u001b[39;00m \u001b[38;5;28mself\u001b[39m\u001b[38;5;241m.\u001b[39m_bind(args, kwargs)\n",
      "File \u001b[0;32m~/anaconda3/lib/python3.12/inspect.py:3197\u001b[0m, in \u001b[0;36mSignature._bind\u001b[0;34m(self, args, kwargs, partial)\u001b[0m\n\u001b[1;32m   3193\u001b[0m \u001b[38;5;28;01melse\u001b[39;00m:\n\u001b[1;32m   3194\u001b[0m     \u001b[38;5;28;01mif\u001b[39;00m param\u001b[38;5;241m.\u001b[39mkind \u001b[38;5;129;01min\u001b[39;00m (_VAR_KEYWORD, _KEYWORD_ONLY):\n\u001b[1;32m   3195\u001b[0m         \u001b[38;5;66;03m# Looks like we have no parameter for this positional\u001b[39;00m\n\u001b[1;32m   3196\u001b[0m         \u001b[38;5;66;03m# argument\u001b[39;00m\n\u001b[0;32m-> 3197\u001b[0m         \u001b[38;5;28;01mraise\u001b[39;00m \u001b[38;5;167;01mTypeError\u001b[39;00m(\n\u001b[1;32m   3198\u001b[0m             \u001b[38;5;124m'\u001b[39m\u001b[38;5;124mtoo many positional arguments\u001b[39m\u001b[38;5;124m'\u001b[39m) \u001b[38;5;28;01mfrom\u001b[39;00m \u001b[38;5;28;01mNone\u001b[39;00m\n\u001b[1;32m   3200\u001b[0m     \u001b[38;5;28;01mif\u001b[39;00m param\u001b[38;5;241m.\u001b[39mkind \u001b[38;5;241m==\u001b[39m _VAR_POSITIONAL:\n\u001b[1;32m   3201\u001b[0m         \u001b[38;5;66;03m# We have an '*args'-like argument, let's fill it with\u001b[39;00m\n\u001b[1;32m   3202\u001b[0m         \u001b[38;5;66;03m# all positional arguments we have left and move on to\u001b[39;00m\n\u001b[1;32m   3203\u001b[0m         \u001b[38;5;66;03m# the next phase\u001b[39;00m\n\u001b[1;32m   3204\u001b[0m         values \u001b[38;5;241m=\u001b[39m [arg_val]\n",
      "\u001b[0;31mTypeError\u001b[0m: too many positional arguments"
     ]
    }
   ],
   "source": [
    "# Load in the iris dataset\n",
    "iris = datasets.load_iris()"
   ]
  },
  {
   "cell_type": "code",
   "execution_count": 4,
   "id": "d0b30ae3-0022-4df5-a453-a96da3bc13ae",
   "metadata": {},
   "outputs": [
    {
     "data": {
      "text/plain": [
       "dict_keys(['data', 'target', 'frame', 'target_names', 'DESCR', 'feature_names', 'filename', 'data_module'])"
      ]
     },
     "execution_count": 4,
     "metadata": {},
     "output_type": "execute_result"
    }
   ],
   "source": [
    "# For clarity, the iris dataset is a dictionary with the data and target separated\n",
    "iris.keys()"
   ]
  },
  {
   "cell_type": "code",
   "execution_count": 18,
   "id": "6ba3d718-a0e0-4823-9ff0-397e3ac2de8e",
   "metadata": {},
   "outputs": [
    {
     "data": {
      "text/html": [
       "<div>\n",
       "<style scoped>\n",
       "    .dataframe tbody tr th:only-of-type {\n",
       "        vertical-align: middle;\n",
       "    }\n",
       "\n",
       "    .dataframe tbody tr th {\n",
       "        vertical-align: top;\n",
       "    }\n",
       "\n",
       "    .dataframe thead th {\n",
       "        text-align: right;\n",
       "    }\n",
       "</style>\n",
       "<table border=\"1\" class=\"dataframe\">\n",
       "  <thead>\n",
       "    <tr style=\"text-align: right;\">\n",
       "      <th></th>\n",
       "      <th>sepal_length</th>\n",
       "      <th>sepal_width</th>\n",
       "      <th>petal_length</th>\n",
       "      <th>petal_width</th>\n",
       "      <th>species</th>\n",
       "    </tr>\n",
       "  </thead>\n",
       "  <tbody>\n",
       "  </tbody>\n",
       "</table>\n",
       "</div>"
      ],
      "text/plain": [
       "Empty DataFrame\n",
       "Columns: [sepal_length, sepal_width, petal_length, petal_width, species]\n",
       "Index: []"
      ]
     },
     "execution_count": 18,
     "metadata": {},
     "output_type": "execute_result"
    }
   ],
   "source": [
    "# Create the iris `data` dataset as a dataframe and name the columns with `feature_names`\n",
    "df = pd.DataFrame(iris, columns=['sepal_length', 'sepal_width', 'petal_length', 'petal_width', 'species'])\n",
    "df.head()\n",
    "# Include the target as well\n",
    "#df['target'] ="
   ]
  },
  {
   "cell_type": "code",
   "execution_count": 7,
   "id": "73b40f8f-a785-489b-a434-c62f78805df6",
   "metadata": {},
   "outputs": [],
   "source": [
    "# Loading iris dataset, use `as_frame=True` to return it as a dataframe\n",
    "iris = datasets.load_iris(as_frame=True)"
   ]
  },
  {
   "cell_type": "code",
   "execution_count": 8,
   "id": "128072e8-7eef-45e5-a8e2-ccd874daa0c3",
   "metadata": {},
   "outputs": [
    {
     "data": {
      "text/plain": [
       "dict_keys(['data', 'target', 'frame', 'target_names', 'DESCR', 'feature_names', 'filename', 'data_module'])"
      ]
     },
     "execution_count": 8,
     "metadata": {},
     "output_type": "execute_result"
    }
   ],
   "source": [
    "# For clarity, the iris dataset is a dictionary with the data and target separated\n",
    "iris.keys()"
   ]
  },
  {
   "cell_type": "code",
   "execution_count": null,
   "id": "d6074b7b-f32f-4410-a41c-1ed8c99779a3",
   "metadata": {},
   "outputs": [
    {
     "ename": "SyntaxError",
     "evalue": "invalid syntax (2740171409.py, line 4)",
     "output_type": "error",
     "traceback": [
      "\u001b[0;36m  Cell \u001b[0;32mIn[14], line 4\u001b[0;36m\u001b[0m\n\u001b[0;31m    df['target'] = class\u001b[0m\n\u001b[0m                   ^\u001b[0m\n\u001b[0;31mSyntaxError\u001b[0m\u001b[0;31m:\u001b[0m invalid syntax\n"
     ]
    }
   ],
   "source": [
    "# Create the iris dataset as a dataframe, it'll be the `frame` key\n",
    "df = pd.DataFrame(iris, columns=['sepal_length', 'sepal_width', 'petal_length', 'petal_width'])\n",
    "\n",
    "df['target'] = iris"
   ]
  },
  {
   "cell_type": "code",
   "execution_count": 13,
   "id": "a91acc45-3dcf-4c58-898f-12c301c5489c",
   "metadata": {
    "tags": []
   },
   "outputs": [
    {
     "data": {
      "text/html": [
       "<div>\n",
       "<style scoped>\n",
       "    .dataframe tbody tr th:only-of-type {\n",
       "        vertical-align: middle;\n",
       "    }\n",
       "\n",
       "    .dataframe tbody tr th {\n",
       "        vertical-align: top;\n",
       "    }\n",
       "\n",
       "    .dataframe thead th {\n",
       "        text-align: right;\n",
       "    }\n",
       "</style>\n",
       "<table border=\"1\" class=\"dataframe\">\n",
       "  <thead>\n",
       "    <tr style=\"text-align: right;\">\n",
       "      <th></th>\n",
       "      <th>sepal_length</th>\n",
       "      <th>sepal_width</th>\n",
       "      <th>petal_length</th>\n",
       "      <th>petal_width</th>\n",
       "      <th>target</th>\n",
       "    </tr>\n",
       "  </thead>\n",
       "  <tbody>\n",
       "  </tbody>\n",
       "</table>\n",
       "</div>"
      ],
      "text/plain": [
       "Empty DataFrame\n",
       "Columns: [sepal_length, sepal_width, petal_length, petal_width, target]\n",
       "Index: []"
      ]
     },
     "execution_count": 13,
     "metadata": {},
     "output_type": "execute_result"
    }
   ],
   "source": [
    "# Check your dataframe by `.head()`\n",
    "df.head()"
   ]
  },
  {
   "cell_type": "code",
   "execution_count": null,
   "id": "4ff66dfb-5ead-46b4-b06e-5243d6b77292",
   "metadata": {},
   "outputs": [],
   "source": [
    "# Simple table summary\n",
    "?"
   ]
  },
  {
   "cell_type": "code",
   "execution_count": null,
   "id": "e36957c1-8f59-4f6e-9745-496a724f952c",
   "metadata": {},
   "outputs": [],
   "source": [
    "# Histogram to show all the data distributions including the target\n",
    "?"
   ]
  },
  {
   "cell_type": "code",
   "execution_count": null,
   "id": "b50ad7b4-799a-4e38-8edf-ae4355180be1",
   "metadata": {},
   "outputs": [],
   "source": [
    "# Investigate to see if any data are correlated positively or negatively\n",
    "?"
   ]
  },
  {
   "cell_type": "markdown",
   "id": "12f51b04-3f9e-47d1-b0c3-abbceaea2cd5",
   "metadata": {},
   "source": [
    "# Scatter Plot Of Features\n",
    "Create a scatter plot of the four features against eachother to visualize the results from the correlation matrix\n",
    "1. `sepal length (cm)` vs. `sepal width (cm)`\n",
    "2. `sepal length (cm)` vs. `petal length (cm)`\n",
    "3. `sepal length (cm)` vs. `petal width (cm)`\n",
    "4. `sepal width (cm)` vs. `petal length (cm)`\n",
    "5. `sepal width (cm)` vs. `petal width (cm)`\n",
    "6. `petal length (cm)` vs. `petal width (cm)`"
   ]
  },
  {
   "cell_type": "code",
   "execution_count": 15,
   "id": "08958672-fcdd-4be9-9a82-9582d600c319",
   "metadata": {
    "tags": []
   },
   "outputs": [
    {
     "ename": "SyntaxError",
     "evalue": "invalid syntax (873620725.py, line 2)",
     "output_type": "error",
     "traceback": [
      "\u001b[0;36m  Cell \u001b[0;32mIn[15], line 2\u001b[0;36m\u001b[0m\n\u001b[0;31m    df.plot(ax=axes[0,0], ?)\u001b[0m\n\u001b[0m                          ^\u001b[0m\n\u001b[0;31mSyntaxError\u001b[0m\u001b[0;31m:\u001b[0m invalid syntax\n"
     ]
    }
   ],
   "source": [
    "fig, axes = plt.subplots(nrows=2, ncols=3, figsize=(12, 8))\n",
    "df.plot(ax=axes[0,0], ?)\n",
    "df.plot(ax=axes[0,1], ?)\n",
    "df.plot(ax=axes[0,2], ?)\n",
    "df.plot(ax=axes[1,0], ?)\n",
    "df.plot(ax=axes[1,1], ?)\n",
    "df.plot(ax=axes[1,2], ?)"
   ]
  },
  {
   "cell_type": "markdown",
   "id": "812c876f-f644-45ca-ac11-171efc1be14a",
   "metadata": {},
   "source": [
    "# Scatter Plot Of Features And Target\n",
    "Create a scatter plot of the four features against the target\n",
    "1. `sepal length (cm)`\n",
    "2. `sepal width (cm)`\n",
    "3. `petal length (cm)`\n",
    "4. `petal width (cm)`"
   ]
  },
  {
   "cell_type": "code",
   "execution_count": null,
   "id": "65591992-7188-46c2-93fe-8f3604ba3fb5",
   "metadata": {
    "tags": []
   },
   "outputs": [],
   "source": [
    "fig, axes = plt.subplots(nrows=2, ncols=2, figsize=(10, 8))\n",
    "df.plot(ax=axes[0, 0], ?)\n",
    "df.plot(ax=axes[0, 1], ?)\n",
    "df.plot(ax=axes[1, 0], ?)\n",
    "df.plot(ax=axes[1, 1], ?)"
   ]
  }
 ],
 "metadata": {
  "kernelspec": {
   "display_name": "base",
   "language": "python",
   "name": "python3"
  },
  "language_info": {
   "codemirror_mode": {
    "name": "ipython",
    "version": 3
   },
   "file_extension": ".py",
   "mimetype": "text/x-python",
   "name": "python",
   "nbconvert_exporter": "python",
   "pygments_lexer": "ipython3",
   "version": "3.12.7"
  }
 },
 "nbformat": 4,
 "nbformat_minor": 5
}
